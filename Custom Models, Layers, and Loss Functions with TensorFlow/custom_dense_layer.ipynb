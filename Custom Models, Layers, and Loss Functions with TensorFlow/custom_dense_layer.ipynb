{
  "nbformat": 4,
  "nbformat_minor": 0,
  "metadata": {
    "colab": {
      "name": "custom-dense-layer.ipynb",
      "provenance": []
    },
    "kernelspec": {
      "name": "python3",
      "display_name": "Python 3"
    }
  },
  "cells": [
    {
      "cell_type": "code",
      "metadata": {
        "id": "PO_F1qnSSH8y"
      },
      "source": [
        "import tensorflow as tf\n",
        "import numpy as np"
      ],
      "execution_count": 1,
      "outputs": []
    },
    {
      "cell_type": "code",
      "metadata": {
        "id": "x-Pi0r-5SInO"
      },
      "source": [
        "# inherit from this base class\n",
        "from tensorflow.keras.layers import Layer\n",
        "\n",
        "class SimpleDense(Layer):\n",
        "\n",
        "    def __init__(self, units=32):\n",
        "        '''Initializes the instance attributes'''\n",
        "        super(SimpleDense, self).__init__()\n",
        "        self.units = units\n",
        "\n",
        "    def build(self, input_shape):\n",
        "        '''Create the state of the layer (weights)'''\n",
        "        # initialize the weights\n",
        "        w_init = tf.random_normal_initializer()\n",
        "        self.w = tf.Variable(name=\"kernel\",\n",
        "            initial_value=w_init(shape=(input_shape[-1], self.units),\n",
        "                                 dtype='float32'),\n",
        "            trainable=True)\n",
        "\n",
        "        # initialize the biases\n",
        "        b_init = tf.zeros_initializer()\n",
        "        self.b = tf.Variable(name=\"bias\",\n",
        "            initial_value=b_init(shape=(self.units,), dtype='float32'),\n",
        "            trainable=True)\n",
        "\n",
        "    def call(self, inputs):\n",
        "        '''Defines the computation from inputs to outputs'''\n",
        "        return tf.matmul(inputs, self.w) + self.b"
      ],
      "execution_count": 2,
      "outputs": []
    },
    {
      "cell_type": "code",
      "metadata": {
        "colab": {
          "base_uri": "https://localhost:8080/"
        },
        "id": "Ekb64D9USQF7",
        "outputId": "97bddb5f-3103-4a5e-e8a8-a8e8ff44fe63"
      },
      "source": [
        "# declare an instance of the class\n",
        "my_dense = SimpleDense(units=1)\n",
        "\n",
        "# define an input and feed into the layer\n",
        "x = tf.ones((1, 1))\n",
        "y = my_dense(x)\n",
        "\n",
        "# parameters of the base Layer class like `variables` can be used\n",
        "print(my_dense.variables)"
      ],
      "execution_count": 3,
      "outputs": [
        {
          "output_type": "stream",
          "text": [
            "[<tf.Variable 'simple_dense/kernel:0' shape=(1, 1) dtype=float32, numpy=array([[-0.01341988]], dtype=float32)>, <tf.Variable 'simple_dense/bias:0' shape=(1,) dtype=float32, numpy=array([0.], dtype=float32)>]\n"
          ],
          "name": "stdout"
        }
      ]
    },
    {
      "cell_type": "code",
      "metadata": {
        "colab": {
          "base_uri": "https://localhost:8080/"
        },
        "id": "aUTfplGoSV43",
        "outputId": "29e8ad98-556d-463f-9f60-cb99fa465f26"
      },
      "source": [
        "# define the dataset\n",
        "xs = np.array([-1.0,  0.0, 1.0, 2.0, 3.0, 4.0], dtype=float)\n",
        "ys = np.array([-3.0, -1.0, 1.0, 3.0, 5.0, 7.0], dtype=float)\n",
        "\n",
        "\n",
        "# use the Sequential API to build a model with our custom layer\n",
        "my_layer = SimpleDense(units=1)\n",
        "model = tf.keras.Sequential([my_layer])\n",
        "\n",
        "# configure and train the model\n",
        "model.compile(optimizer='sgd', loss='mean_squared_error')\n",
        "model.fit(xs, ys, epochs=500,verbose=0)\n",
        "\n",
        "# perform inference\n",
        "print(model.predict([10.0]))\n",
        "\n",
        "# see the updated state of the variables\n",
        "print(my_layer.variables)"
      ],
      "execution_count": 4,
      "outputs": [
        {
          "output_type": "stream",
          "text": [
            "[[18.98173]]\n",
            "[<tf.Variable 'simple_dense_1/kernel:0' shape=(1, 1) dtype=float32, numpy=array([[1.9973519]], dtype=float32)>, <tf.Variable 'simple_dense_1/bias:0' shape=(1,) dtype=float32, numpy=array([-0.99178964], dtype=float32)>]\n"
          ],
          "name": "stdout"
        }
      ]
    },
    {
      "cell_type": "code",
      "metadata": {
        "id": "BWu3_LonS60j"
      },
      "source": [
        ""
      ],
      "execution_count": null,
      "outputs": []
    }
  ]
}